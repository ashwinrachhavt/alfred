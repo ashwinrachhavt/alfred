{
 "cells": [
  {
   "cell_type": "code",
   "execution_count": 26,
   "id": "54435cb9",
   "metadata": {},
   "outputs": [],
   "source": [
    "import os\n",
    "import json\n",
    "from dotenv import load_dotenv\n",
    "import nest_asyncio\n",
    "from agents import Agent, InputGuardrail, GuardrailFunctionOutput, Runner\n",
    "from agents.exceptions import InputGuardrailTripwireTriggered\n",
    "from pydantic import BaseModel\n",
    "import asyncio"
   ]
  },
  {
   "cell_type": "code",
   "execution_count": 27,
   "id": "d999a08f",
   "metadata": {},
   "outputs": [],
   "source": [
    "load_dotenv()\n",
    "nest_asyncio.apply()"
   ]
  },
  {
   "cell_type": "code",
   "execution_count": 28,
   "id": "ffa2acda",
   "metadata": {},
   "outputs": [
    {
     "name": "stdout",
     "output_type": "stream",
     "text": [
      "The first president of the United States was George Washington. He served as president from 1789 to 1797. Washington is often called the \"Father of His Country\" for his leadership during the founding of the nation. He was unanimously elected as the first president and set many precedents for the office, including serving only two terms. Before becoming president, he was also the commander-in-chief of the Continental Army during the American Revolutionary War.\n",
      "Guardrail blocked this input: Guardrail InputGuardrail triggered tripwire\n"
     ]
    }
   ],
   "source": [
    "class HomeworkOutput(BaseModel):\n",
    "    is_homework: bool\n",
    "    reasoning: str\n",
    "\n",
    "guardrail_agent = Agent(\n",
    "    name=\"Guardrail check\",\n",
    "    instructions=\"Check if the user is asking about homework.\",\n",
    "    output_type=HomeworkOutput,\n",
    ")\n",
    "\n",
    "math_tutor_agent = Agent(\n",
    "    name=\"Math Tutor\",\n",
    "    handoff_description=\"Specialist agent for math questions\",\n",
    "    instructions=\"You provide help with math problems. Explain your reasoning at each step and include examples\",\n",
    ")\n",
    "\n",
    "history_tutor_agent = Agent(\n",
    "    name=\"History Tutor\",\n",
    "    handoff_description=\"Specialist agent for historical questions\",\n",
    "    instructions=\"You provide assistance with historical queries. Explain important events and context clearly.\",\n",
    ")\n",
    "\n",
    "\n",
    "async def homework_guardrail(ctx, agent, input_data):\n",
    "    result = await Runner.run(guardrail_agent, input_data, context=ctx.context)\n",
    "    final_output = result.final_output_as(HomeworkOutput)\n",
    "    return GuardrailFunctionOutput(\n",
    "        output_info=final_output,\n",
    "        tripwire_triggered=not final_output.is_homework,\n",
    "    )\n",
    "\n",
    "triage_agent = Agent(\n",
    "    name=\"Triage Agent\",\n",
    "    instructions=\"You determine which agent to use based on the user's homework question\",\n",
    "    handoffs=[history_tutor_agent, math_tutor_agent],\n",
    "    input_guardrails=[\n",
    "        InputGuardrail(guardrail_function=homework_guardrail),\n",
    "    ],\n",
    ")\n",
    "\n",
    "async def main():\n",
    "    # Example 1: History question\n",
    "    try:\n",
    "        result = await Runner.run(triage_agent, \"who was the first president of the united states?\")\n",
    "        print(result.final_output)\n",
    "    except InputGuardrailTripwireTriggered as e:\n",
    "        print(\"Guardrail blocked this input:\", e)\n",
    "\n",
    "    # Example 2: General/philosophical question\n",
    "    try:\n",
    "        result = await Runner.run(triage_agent, \"What is the meaning of life?\")\n",
    "        print(result.final_output)\n",
    "    except InputGuardrailTripwireTriggered as e:\n",
    "        print(\"Guardrail blocked this input:\", e)\n",
    "\n",
    "if __name__ == \"__main__\":\n",
    "    asyncio.run(main())"
   ]
  },
  {
   "cell_type": "code",
   "execution_count": null,
   "id": "06dc5408",
   "metadata": {},
   "outputs": [],
   "source": []
  }
 ],
 "metadata": {
  "kernelspec": {
   "display_name": "venv",
   "language": "python",
   "name": "python3"
  },
  "language_info": {
   "codemirror_mode": {
    "name": "ipython",
    "version": 3
   },
   "file_extension": ".py",
   "mimetype": "text/x-python",
   "name": "python",
   "nbconvert_exporter": "python",
   "pygments_lexer": "ipython3",
   "version": "3.11.7"
  }
 },
 "nbformat": 4,
 "nbformat_minor": 5
}
